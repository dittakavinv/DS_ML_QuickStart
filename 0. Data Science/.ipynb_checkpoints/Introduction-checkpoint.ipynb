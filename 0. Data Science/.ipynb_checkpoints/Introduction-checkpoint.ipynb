{
 "cells": [
  {
   "cell_type": "markdown",
   "metadata": {},
   "source": [
    "## DATA SCIENCE\n",
    "\n",
    "___\n",
    "\n",
    "<img src='./Images_DS/DS_Poster.jpg' height='800px' width='8000px'/></a>\n",
    "___"
   ]
  },
  {
   "cell_type": "markdown",
   "metadata": {},
   "source": [
    "## SKILLS\n",
    "___\n",
    "\n",
    "<img src='./Images_DS/DS_Skills.png' height='600px' width='600px'/></a>\n",
    "___"
   ]
  },
  {
   "cell_type": "markdown",
   "metadata": {},
   "source": [
    "## THE PROCESS\n",
    "___\n",
    "\n",
    "<img src='./Images_DS/DS_LIFE.png' height='700px' width='700px'/></a>\n",
    "___"
   ]
  }
 ],
 "metadata": {
  "kernelspec": {
   "display_name": "Python 3",
   "language": "python",
   "name": "python3"
  },
  "language_info": {
   "codemirror_mode": {
    "name": "ipython",
    "version": 3
   },
   "file_extension": ".py",
   "mimetype": "text/x-python",
   "name": "python",
   "nbconvert_exporter": "python",
   "pygments_lexer": "ipython3",
   "version": "3.7.3"
  }
 },
 "nbformat": 4,
 "nbformat_minor": 2
}
