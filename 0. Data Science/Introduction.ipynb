{
 "cells": [
  {
   "cell_type": "markdown",
   "metadata": {},
   "source": [
    "## DATA SCIENCE (WHAT)\n",
    "\n",
    "___\n",
    "\n",
    "<img src='./Images_DS/DS_Poster.jpg' height='800px' width='8000px'/></a>\n",
    "___\n",
    "\n",
    "Data science is the field of study that combines domain expertise, programming skills, and knowledge of math and statistics to extract meaningful insights from data. Data science practitioners apply machine learning algorithms to numbers, text, images, video, audio, and more to produce artificially intelligent (AI) systems that perform tasks which ordinarily require human intelligence. In turn, these systems generate insights that analysts and business users translate into tangible business value."
   ]
  },
  {
   "cell_type": "markdown",
   "metadata": {},
   "source": [
    "## SKILLS\n",
    "___\n",
    "\n",
    "<img src='./Images_DS/DS_Skills.png' height='600px' width='600px'/></a>\n",
    "___"
   ]
  },
  {
   "cell_type": "markdown",
   "metadata": {},
   "source": [
    "## THE PROCESS (HOW)\n",
    "___\n",
    "\n",
    "<img src='./Images_DS/DS_LIFE.png' height='700px' width='700px'/></a>\n",
    "___"
   ]
  },
  {
   "cell_type": "markdown",
   "metadata": {},
   "source": [
    "## WHERE (DOMAINS)\n",
    "\n",
    "___\n",
    "\n",
    "<img src='./Images_DS/DS_Applications.jpg' height='800px' width='8000px'/></a>\n",
    "___\n"
   ]
  }
 ],
 "metadata": {
  "kernelspec": {
   "display_name": "Python 3",
   "language": "python",
   "name": "python3"
  },
  "language_info": {
   "codemirror_mode": {
    "name": "ipython",
    "version": 3
   },
   "file_extension": ".py",
   "mimetype": "text/x-python",
   "name": "python",
   "nbconvert_exporter": "python",
   "pygments_lexer": "ipython3",
   "version": "3.7.3"
  }
 },
 "nbformat": 4,
 "nbformat_minor": 2
}
